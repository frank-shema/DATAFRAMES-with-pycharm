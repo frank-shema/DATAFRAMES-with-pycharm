{
 "cells": [
  {
   "metadata": {},
   "cell_type": "markdown",
   "source": [
    "# This is a sample Jupyter Notebook\n",
    "\n",
    "Below is an example of a code cell. \n",
    "Put your cursor into the cell and press Shift+Enter to execute it and select the next one, or click 'Run Cell' button.\n",
    "\n",
    "Press Double Shift to search everywhere for classes, files, tool windows, actions, and settings.\n",
    "\n",
    "To learn more about Jupyter Notebooks in PyCharm, see [help](https://www.jetbrains.com/help/pycharm/ipython-notebook-support.html).\n",
    "For an overview of PyCharm, go to Help -> Learn IDE features or refer to [our documentation](https://www.jetbrains.com/help/pycharm/getting-started.html)."
   ],
   "id": "8a77807f92f26ee"
  },
  {
   "metadata": {
    "ExecuteTime": {
     "end_time": "2024-12-02T07:47:22.881618Z",
     "start_time": "2024-12-02T07:47:22.873461Z"
    }
   },
   "cell_type": "code",
   "source": [
    "import pandas as pd\n",
    "import os\n",
    "\n",
    "\n",
    "# Define the path to the data folder\n",
    "data_folder = os.path.join(os.getcwd(), \"data\")\n",
    "file_path = os.path.join(data_folder, \"ml.csv\")\n",
    "\n",
    "# Read the CSV file into a DataFrame\n",
    "df = pd.read_csv(file_path)\n",
    "\n",
    "# Display the data types of columns\n",
    "# print(df.value_counts())\n",
    "df.isnull().sum()\n",
    "\n",
    "\n",
    "\n"
   ],
   "id": "fbc121e30a2defb3",
   "outputs": [
    {
     "data": {
      "text/plain": [
       "Unnamed: 0                  0\n",
       "vin                         0\n",
       "manufacturer                0\n",
       "year                        1\n",
       "color                       0\n",
       "body_type                   0\n",
       "engine_type                 0\n",
       "transmission                0\n",
       "fuel_type                   0\n",
       "seating_capacity            0\n",
       "kilometers_driven           0\n",
       "vehicle_condition_status    0\n",
       "selling_price               0\n",
       "owner_name                  0\n",
       "owner_profession            0\n",
       "owner_age                   0\n",
       "owner_district              0\n",
       "purchase_price              0\n",
       "purchase_date               0\n",
       "dtype: int64"
      ]
     },
     "execution_count": 26,
     "metadata": {},
     "output_type": "execute_result"
    }
   ],
   "execution_count": 26
  },
  {
   "metadata": {},
   "cell_type": "markdown",
   "source": "",
   "id": "fe06740da3d548d1"
  },
  {
   "metadata": {},
   "cell_type": "code",
   "outputs": [],
   "execution_count": null,
   "source": "",
   "id": "49e3f64b6990d027"
  }
 ],
 "metadata": {
  "kernelspec": {
   "display_name": "Python 3",
   "language": "python",
   "name": "python3"
  },
  "language_info": {
   "codemirror_mode": {
    "name": "ipython",
    "version": 2
   },
   "file_extension": ".py",
   "mimetype": "text/x-python",
   "name": "python",
   "nbconvert_exporter": "python",
   "pygments_lexer": "ipython2",
   "version": "2.7.6"
  }
 },
 "nbformat": 4,
 "nbformat_minor": 5
}
