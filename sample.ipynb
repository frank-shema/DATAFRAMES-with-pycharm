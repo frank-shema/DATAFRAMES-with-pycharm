{
 "cells": [
  {
   "metadata": {},
   "cell_type": "markdown",
   "source": [
    "# This is a sample Jupyter Notebook\n",
    "\n",
    "Below is an example of a code cell. \n",
    "Put your cursor into the cell and press Shift+Enter to execute it and select the next one, or click 'Run Cell' button.\n",
    "\n",
    "Press Double Shift to search everywhere for classes, files, tool windows, actions, and settings.\n",
    "\n",
    "To learn more about Jupyter Notebooks in PyCharm, see [help](https://www.jetbrains.com/help/pycharm/ipython-notebook-support.html).\n",
    "For an overview of PyCharm, go to Help -> Learn IDE features or refer to [our documentation](https://www.jetbrains.com/help/pycharm/getting-started.html)."
   ],
   "id": "8a77807f92f26ee"
  },
  {
   "metadata": {
    "ExecuteTime": {
     "end_time": "2024-12-02T07:47:22.881618Z",
     "start_time": "2024-12-02T07:47:22.873461Z"
    }
   },
   "cell_type": "code",
   "source": [
    "# View the first and last rows\n",
    "\n",
    "import pandas as pd\n",
    "import os\n",
    "\n",
    "\n",
    "# Define the path to the data folder\n",
    "data_folder = os.path.join(os.getcwd(), \"data\")\n",
    "file_path = os.path.join(data_folder, \"ml.csv\")\n",
    "\n",
    "# Read the CSV file into a DataFrame\n",
    "df = pd.read_csv(file_path)\n",
    "\n",
    "# Display the data types of columns\n",
    "# print(df.value_counts())\n",
    "df.isnull().sum()\n",
    "df.head()  # First 5 rows\n",
    "df.tail()  # Last 5 rows\n",
    "\n",
    "# Get basic information about the DataFrame\n",
    "df.info()\n",
    "\n",
    "# Get summary statistics\n",
    "df.describe()\n",
    "\n",
    "# Check the shape of the DataFrame\n",
    "df.shape  # (rows, columns)\n",
    "\n",
    "# Check for duplicate rows\n",
    "df.duplicated().sum()\n",
    "\n",
    "# View unique values in specific columns\n",
    "df['column_name'].unique()\n",
    "\n",
    "# Count occurrences of each unique value in a column\n",
    "df['column_name'].value_counts()\n",
    "\n",
    "# Check for missing values\n",
    "df.isnull().sum()\n",
    "\n",
    "# Drop rows/columns with missing values\n",
    "df.dropna(inplace=False)  # Remove rows with missing values\n",
    "df.dropna(axis=1, inplace=False)  # Remove columns with missing values\n",
    "\n",
    "# Fill missing values\n",
    "df.fillna(value=0, inplace=False)  # Replace NaN with 0\n",
    "df['column_name'].fillna(value=df['column_name'].mean(), inplace=False)  # Replace NaN with column mean\n",
    "\n",
    "# Interpolate missing data\n",
    "df.interpolate(method='linear', inplace=False)\n",
    "\n",
    "# Replace specific values\n",
    "df.replace(to_replace=\"missing\", value=\"new_value\", inplace=True)\n",
    "\n",
    "# Rename columns\n",
    "df.rename(columns={\"old_name\": \"new_name\"}, inplace=False)\n",
    "\n",
    "# Add new columns\n",
    "df['new_column'] = df['existing_column'] * 2  # Example: Create a new column\n",
    "\n",
    "# Drop columns\n",
    "df.drop(columns=['column1', 'column2'], inplace=False)\n",
    "\n",
    "# Select specific columns\n",
    "selected_columns = df[['column1', 'column2']]\n",
    "\n",
    "# Filter rows based on a condition\n",
    "filtered_df = df[df['column_name'] > 10]  # Example: Select rows where column_name > 10\n",
    "\n",
    "# Reset index\n",
    "df.reset_index(drop=True, inplace=False)\n",
    "\n",
    "# Convert a column to datetime\n",
    "df['date_column'] = pd.to_datetime(df['date_column'])\n",
    "\n",
    "# Extract year, month, day\n",
    "df['year'] = df['date_column'].dt.year\n",
    "df['month'] = df['date_column'].dt.month\n",
    "df['day'] = df['date_column'].dt.day\n",
    "\n",
    "# Filter rows by date range\n",
    "filtered_df = df[(df['date_column'] >= '2023-01-01') & (df['date_column'] <= '2023-12-31')]\n"
   ],
   "id": "fbc121e30a2defb3",
   "outputs": [
    {
     "data": {
      "text/plain": [
       "Unnamed: 0                  0\n",
       "vin                         0\n",
       "manufacturer                0\n",
       "year                        1\n",
       "color                       0\n",
       "body_type                   0\n",
       "engine_type                 0\n",
       "transmission                0\n",
       "fuel_type                   0\n",
       "seating_capacity            0\n",
       "kilometers_driven           0\n",
       "vehicle_condition_status    0\n",
       "selling_price               0\n",
       "owner_name                  0\n",
       "owner_profession            0\n",
       "owner_age                   0\n",
       "owner_district              0\n",
       "purchase_price              0\n",
       "purchase_date               0\n",
       "dtype: int64"
      ]
     },
     "execution_count": 26,
     "metadata": {},
     "output_type": "execute_result"
    }
   ],
   "execution_count": 26
  },
  {
   "metadata": {},
   "cell_type": "markdown",
   "source": "",
   "id": "fe06740da3d548d1"
  },
  {
   "metadata": {},
   "cell_type": "code",
   "outputs": [],
   "execution_count": null,
   "source": "",
   "id": "49e3f64b6990d027"
  }
 ],
 "metadata": {
  "kernelspec": {
   "display_name": "Python 3",
   "language": "python",
   "name": "python3"
  },
  "language_info": {
   "codemirror_mode": {
    "name": "ipython",
    "version": 2
   },
   "file_extension": ".py",
   "mimetype": "text/x-python",
   "name": "python",
   "nbconvert_exporter": "python",
   "pygments_lexer": "ipython2",
   "version": "2.7.6"
  }
 },
 "nbformat": 4,
 "nbformat_minor": 5
}
